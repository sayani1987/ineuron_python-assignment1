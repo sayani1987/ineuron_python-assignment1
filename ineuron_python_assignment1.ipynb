{
  "nbformat": 4,
  "nbformat_minor": 0,
  "metadata": {
    "colab": {
      "provenance": [],
      "authorship_tag": "ABX9TyNn9wA9WJnV/tPT50tpkg7z",
      "include_colab_link": true
    },
    "kernelspec": {
      "name": "python3",
      "display_name": "Python 3"
    },
    "language_info": {
      "name": "python"
    }
  },
  "cells": [
    {
      "cell_type": "markdown",
      "metadata": {
        "id": "view-in-github",
        "colab_type": "text"
      },
      "source": [
        "<a href=\"https://colab.research.google.com/github/sayani1987/ineuron_python-assignment1/blob/main/ineuron_python_assignment1.ipynb\" target=\"_parent\"><img src=\"https://colab.research.google.com/assets/colab-badge.svg\" alt=\"Open In Colab\"/></a>"
      ]
    },
    {
      "cell_type": "markdown",
      "source": [
        "##Programming Assignment_1"
      ],
      "metadata": {
        "id": "vh-NBnLh2G-S"
      }
    },
    {
      "cell_type": "markdown",
      "source": [
        "1. Write a Python program to print \"Hello Python\"?"
      ],
      "metadata": {
        "id": "iiBJVfNVomN9"
      }
    },
    {
      "cell_type": "code",
      "source": [
        "print(\"Hello Python\")\n",
        "Hello Python"
      ],
      "metadata": {
        "id": "oNUeTFYynZK8"
      },
      "execution_count": null,
      "outputs": []
    },
    {
      "cell_type": "markdown",
      "source": [
        "2. Write a Python program to do arithmetical operations addition and division.?"
      ],
      "metadata": {
        "id": "-p0MFRXmqXiT"
      }
    },
    {
      "cell_type": "code",
      "source": [
        "a=int(input(\"Enter first number\"))\n",
        "b=int(input(\"Enter second number\"))\n",
        "addition= a+b\n",
        "print(\"The addition of\",a,\"and\",b,\"is\", addition )"
      ],
      "metadata": {
        "colab": {
          "base_uri": "https://localhost:8080/"
        },
        "id": "ff0VjHA9o1In",
        "outputId": "520f7bc3-d4c7-4513-d580-75a18be8f8a6"
      },
      "execution_count": 7,
      "outputs": [
        {
          "output_type": "stream",
          "name": "stdout",
          "text": [
            "Enter first number32\n",
            "Enter second number4\n",
            "The addition of 32 and 4 is 36\n"
          ]
        }
      ]
    },
    {
      "cell_type": "code",
      "source": [
        "division=a/b\n",
        "print(\"The division of\",a,\"and\",b,\"is\",division )"
      ],
      "metadata": {
        "colab": {
          "base_uri": "https://localhost:8080/"
        },
        "id": "cP8kB8ARpDcs",
        "outputId": "1abdeebc-a02e-48b6-be16-b6602146b453"
      },
      "execution_count": 8,
      "outputs": [
        {
          "output_type": "stream",
          "name": "stdout",
          "text": [
            "The division of 32 and 4 is 8.0\n"
          ]
        }
      ]
    },
    {
      "cell_type": "markdown",
      "source": [
        "3. Write a Python program to find the area of a triangle?"
      ],
      "metadata": {
        "id": "qAvh9w4aqiQb"
      }
    },
    {
      "cell_type": "code",
      "source": [
        "h=int(input(\"enter the hight of a triangle\"))\n",
        "b=int(input(\"enter the base of a triangle\"))"
      ],
      "metadata": {
        "colab": {
          "base_uri": "https://localhost:8080/"
        },
        "id": "kfRTRh_xqjIm",
        "outputId": "1a02c1a7-eb52-4679-9af3-e1971e492f23"
      },
      "execution_count": 9,
      "outputs": [
        {
          "name": "stdout",
          "output_type": "stream",
          "text": [
            "enter the hight of a triangle20\n",
            "enter the base of a triangle10\n"
          ]
        }
      ]
    },
    {
      "cell_type": "code",
      "source": [
        "area=(1/2)*h*b\n",
        "print('The area of triangle is', area)"
      ],
      "metadata": {
        "colab": {
          "base_uri": "https://localhost:8080/"
        },
        "id": "KF0Le9MKs3Oy",
        "outputId": "5bd86cf4-7cff-4943-989c-285e1e0b8062"
      },
      "execution_count": 10,
      "outputs": [
        {
          "output_type": "stream",
          "name": "stdout",
          "text": [
            "The area of triangle is 100.0\n"
          ]
        }
      ]
    },
    {
      "cell_type": "markdown",
      "source": [
        "4. Write a Python program to swap two variables?"
      ],
      "metadata": {
        "id": "i0G8cbCitk1P"
      }
    },
    {
      "cell_type": "code",
      "source": [
        "a=int(input(\"enter first number\"))\n",
        "b=int(input(\"enter second number\"))\n",
        "temp=a\n",
        "a=b\n",
        "b=temp\n",
        "print(\"After swaping the number are\",a,b)"
      ],
      "metadata": {
        "colab": {
          "base_uri": "https://localhost:8080/"
        },
        "id": "87hKu0tetwAX",
        "outputId": "5cf24447-43a2-4768-8715-02be42d9e030"
      },
      "execution_count": 11,
      "outputs": [
        {
          "output_type": "stream",
          "name": "stdout",
          "text": [
            "enter first number10\n",
            "enter second number20\n",
            "After swaping the number are 20 10\n"
          ]
        }
      ]
    },
    {
      "cell_type": "markdown",
      "source": [
        "5. Write a Python program to generate a random number?"
      ],
      "metadata": {
        "id": "9WfPeJaPvKSp"
      }
    },
    {
      "cell_type": "code",
      "source": [
        "import random"
      ],
      "metadata": {
        "id": "734MWY9IvM44"
      },
      "execution_count": 12,
      "outputs": []
    },
    {
      "cell_type": "code",
      "source": [
        "num=random.randint(0,10)\n",
        "num"
      ],
      "metadata": {
        "colab": {
          "base_uri": "https://localhost:8080/"
        },
        "id": "8q9CW5YdvjuH",
        "outputId": "95b49043-3b26-49fc-93fb-3f85e50c9144"
      },
      "execution_count": 17,
      "outputs": [
        {
          "output_type": "execute_result",
          "data": {
            "text/plain": [
              "7"
            ]
          },
          "metadata": {},
          "execution_count": 17
        }
      ]
    }
  ]
}